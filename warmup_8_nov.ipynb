{
 "cells": [
  {
   "cell_type": "markdown",
   "id": "72ee57b1-dffc-43ed-8bc1-cdb87f9f633c",
   "metadata": {},
   "source": [
    "## Find average salary of all current employees at company"
   ]
  },
  {
   "cell_type": "code",
   "execution_count": 1,
   "id": "f56222fa-5eb2-4232-b5be-babac60832f6",
   "metadata": {},
   "outputs": [],
   "source": [
    "import pandas as pd\n",
    "import numpy as np\n",
    "\n",
    "import src.env as env"
   ]
  },
  {
   "cell_type": "code",
   "execution_count": 4,
   "id": "a1d16698-c073-4341-87d0-4bf7724e94b1",
   "metadata": {},
   "outputs": [],
   "source": [
    "def employee_query():\n",
    "    sql_query = '''\n",
    "    SELECT *\n",
    "    FROM employees\n",
    "    left join salaries using (emp_no)\n",
    "    WHERE to_date > CURDATE()\n",
    "    \n",
    "    '''\n",
    "    #left join salaries using (emp_no)\n",
    "    df = pd.read_sql(sql_query, env.get_db_url('employees'))\n",
    "    \n",
    "    return df\n",
    "                     "
   ]
  },
  {
   "cell_type": "code",
   "execution_count": 5,
   "id": "110d4a4a-5076-4e20-ad77-1a7a75c0dcf4",
   "metadata": {},
   "outputs": [],
   "source": [
    "emp = employee_query()"
   ]
  },
  {
   "cell_type": "code",
   "execution_count": 8,
   "id": "2f5fff70-286c-40f0-a72f-ced778026b39",
   "metadata": {},
   "outputs": [
    {
     "data": {
      "text/plain": [
       "72012.23585730705"
      ]
     },
     "execution_count": 8,
     "metadata": {},
     "output_type": "execute_result"
    }
   ],
   "source": [
    "emp['salary'].mean()"
   ]
  },
  {
   "cell_type": "code",
   "execution_count": null,
   "id": "8d6bb9ff-6ddf-41de-bed1-18d1410af2df",
   "metadata": {},
   "outputs": [],
   "source": []
  },
  {
   "cell_type": "code",
   "execution_count": null,
   "id": "13c04620-f2e5-4214-9f22-779d55343a69",
   "metadata": {},
   "outputs": [],
   "source": []
  },
  {
   "cell_type": "code",
   "execution_count": null,
   "id": "67ab27f1-0541-4a5e-a6b9-29ac1bb57141",
   "metadata": {},
   "outputs": [],
   "source": []
  }
 ],
 "metadata": {
  "kernelspec": {
   "display_name": "Python 3 (ipykernel)",
   "language": "python",
   "name": "python3"
  },
  "language_info": {
   "codemirror_mode": {
    "name": "ipython",
    "version": 3
   },
   "file_extension": ".py",
   "mimetype": "text/x-python",
   "name": "python",
   "nbconvert_exporter": "python",
   "pygments_lexer": "ipython3",
   "version": "3.9.13"
  }
 },
 "nbformat": 4,
 "nbformat_minor": 5
}
