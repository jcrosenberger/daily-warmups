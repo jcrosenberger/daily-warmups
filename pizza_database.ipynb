{
 "cells": [
  {
   "cell_type": "markdown",
   "id": "3b52fb53-2675-4896-96aa-189661623d12",
   "metadata": {},
   "source": [
    "## pizza\n",
    "\n",
    "- SQL Warmup\n",
    "- Use the pizza database to answer the following questions.\n",
    "\n",
    "- What information is stored in the toppings table? How does this table relate to the pizzas table?\n",
    "\n",
    "- What information is stored in the modifiers table? How does this table relate to the pizzas table?\n",
    "\n",
    "- How are the pizzas and sizes tables related?\n",
    "\n",
    "- What other tables are in the database?\n",
    "\n",
    "- How many unique toppings are there?\n",
    "\n",
    "- How many unique orders are in this dataset?\n",
    "\n",
    "- Which size of pizza is sold the most?\n",
    "\n",
    "- How many pizzas have been sold in total?\n",
    "\n",
    "- What is the most common size of pizza ordered?\n",
    "\n",
    "- What is the average number of pizzas per order?"
   ]
  },
  {
   "cell_type": "code",
   "execution_count": null,
   "id": "7f6278ea-0db1-4c0a-b744-34796ba4de54",
   "metadata": {},
   "outputs": [],
   "source": []
  }
 ],
 "metadata": {
  "kernelspec": {
   "display_name": "Python 3 (ipykernel)",
   "language": "python",
   "name": "python3"
  },
  "language_info": {
   "codemirror_mode": {
    "name": "ipython",
    "version": 3
   },
   "file_extension": ".py",
   "mimetype": "text/x-python",
   "name": "python",
   "nbconvert_exporter": "python",
   "pygments_lexer": "ipython3",
   "version": "3.9.15"
  }
 },
 "nbformat": 4,
 "nbformat_minor": 5
}
