{
 "cells": [
  {
   "cell_type": "markdown",
   "id": "b7ba9877-caa5-49e5-8c74-887a33c0ce20",
   "metadata": {},
   "source": [
    "\n",
    "### Write a function that takes a list of numbers and returns a list with two elements:\n",
    "- The first element should be the sum of all even numbers in the list.\n",
    "- The second element should be the sum of all odd numbers in the list."
   ]
  },
  {
   "cell_type": "code",
   "execution_count": 6,
   "id": "6b3adb00-e54d-418c-a16b-7cabdee84b6a",
   "metadata": {},
   "outputs": [],
   "source": [
    "def number_function(numbers):\n",
    "    evens = 0\n",
    "    odds  = 0\n",
    "    for number in numbers:\n",
    "        if number % 2 ==0:\n",
    "            evens += number\n",
    "        else:\n",
    "            odds += number\n",
    "            \n",
    "    return (evens, odds)"
   ]
  },
  {
   "cell_type": "code",
   "execution_count": 7,
   "id": "fa36b7f6-d7d7-4ae0-8d3e-c25ca5eeaed4",
   "metadata": {},
   "outputs": [
    {
     "data": {
      "text/plain": [
       "((6, 9), (12, 8))"
      ]
     },
     "execution_count": 7,
     "metadata": {},
     "output_type": "execute_result"
    }
   ],
   "source": [
    "numbers1 = [1,2,3,4,5]\n",
    "numbers2 = [2,3,4,5,6]\n",
    "\n",
    "evens1, odds1 = number_function(numbers1)\n",
    "evens2, odds2 = number_function(numbers2)\n",
    "\n",
    "(evens1, odds1), (evens2, odds2)"
   ]
  },
  {
   "cell_type": "code",
   "execution_count": 11,
   "id": "fbf16ded-e036-49de-84c5-333cde30bae0",
   "metadata": {},
   "outputs": [],
   "source": [
    "import numpy as np\n",
    "lots_o_numbers = np.random.randint(low=1, high = 100000, size=500)\n",
    "\n",
    "big_evens, big_odds = number_function(lots_o_numbers)"
   ]
  },
  {
   "cell_type": "code",
   "execution_count": 12,
   "id": "eda34a5f-a196-4b39-99b7-c98c8c82f5a7",
   "metadata": {},
   "outputs": [
    {
     "data": {
      "text/plain": [
       "(11789240, 14077307)"
      ]
     },
     "execution_count": 12,
     "metadata": {},
     "output_type": "execute_result"
    }
   ],
   "source": [
    "big_evens, big_odds"
   ]
  },
  {
   "cell_type": "code",
   "execution_count": null,
   "id": "c22bed90-e22e-423e-8090-0a4e2d496b8a",
   "metadata": {},
   "outputs": [],
   "source": []
  }
 ],
 "metadata": {
  "kernelspec": {
   "display_name": "Python 3 (ipykernel)",
   "language": "python",
   "name": "python3"
  },
  "language_info": {
   "codemirror_mode": {
    "name": "ipython",
    "version": 3
   },
   "file_extension": ".py",
   "mimetype": "text/x-python",
   "name": "python",
   "nbconvert_exporter": "python",
   "pygments_lexer": "ipython3",
   "version": "3.11.1"
  }
 },
 "nbformat": 4,
 "nbformat_minor": 5
}
