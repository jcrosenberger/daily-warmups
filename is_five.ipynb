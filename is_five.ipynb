{
 "cells": [
  {
   "cell_type": "code",
   "execution_count": 1,
   "id": "0ec4ca6c-9390-4d58-942f-eddb84c82957",
   "metadata": {},
   "outputs": [
    {
     "data": {
      "text/plain": [
       "' Write a function with takes in an integer and then determines if that int is less than 5 or equal to or greater than five and prints\\n'"
      ]
     },
     "execution_count": 1,
     "metadata": {},
     "output_type": "execute_result"
    }
   ],
   "source": [
    "''' Write a function with takes in an integer and then determines if that int is less than 5 or equal to or greater than five and prints\n",
    "'''"
   ]
  },
  {
   "cell_type": "code",
   "execution_count": 11,
   "id": "e9bfe4e8-6d8e-48b6-a9b3-1e7ab5cca74c",
   "metadata": {},
   "outputs": [],
   "source": [
    "def is_five(var):\n",
    "    \n",
    "    if type(var) == str:\n",
    "        exit()\n",
    "    \n",
    "    if type(var) != int:\n",
    "        var = int(var)\n",
    "    if var > 5:\n",
    "        print(f' {var} is greater than 5!')\n",
    "    if var < 5:\n",
    "        print(f' {var} is less than 5!')\n",
    "    if var == 5:\n",
    "        print(f' {var} is 5!')"
   ]
  },
  {
   "cell_type": "code",
   "execution_count": 4,
   "id": "23870eee-540d-4974-af89-394f3f57ba53",
   "metadata": {},
   "outputs": [
    {
     "name": "stdout",
     "output_type": "stream",
     "text": [
      " 3 is less than 5!\n"
     ]
    }
   ],
   "source": [
    "is_five(3)"
   ]
  },
  {
   "cell_type": "code",
   "execution_count": 5,
   "id": "721ecbb0-83e5-4a17-8034-0bd845e02571",
   "metadata": {},
   "outputs": [
    {
     "name": "stdout",
     "output_type": "stream",
     "text": [
      " 43985984 is greater than 5!\n"
     ]
    }
   ],
   "source": [
    "is_five(43985984)"
   ]
  },
  {
   "cell_type": "code",
   "execution_count": 6,
   "id": "a7d8113a-3df1-40f7-8d0e-f099508b55bd",
   "metadata": {},
   "outputs": [
    {
     "name": "stdout",
     "output_type": "stream",
     "text": [
      " 5 is 5!\n"
     ]
    }
   ],
   "source": [
    "is_five(5)"
   ]
  },
  {
   "cell_type": "code",
   "execution_count": 9,
   "id": "a3348a6b-5fed-463b-8069-127b37ebbe07",
   "metadata": {},
   "outputs": [
    {
     "name": "stdout",
     "output_type": "stream",
     "text": [
      " 3 is less than 5!\n"
     ]
    }
   ],
   "source": [
    "is_five(3.4)"
   ]
  },
  {
   "cell_type": "code",
   "execution_count": 12,
   "id": "6ab432df-79c4-4640-89b6-3f7bd233aee0",
   "metadata": {},
   "outputs": [
    {
     "ename": "ValueError",
     "evalue": "invalid literal for int() with base 10: 'this'",
     "output_type": "error",
     "traceback": [
      "\u001b[0;31m---------------------------------------------------------------------------\u001b[0m",
      "\u001b[0;31mValueError\u001b[0m                                Traceback (most recent call last)",
      "\u001b[0;32m/var/folders/hf/46l4fb0x1bj47kh2tdxlqp1h0000gn/T/ipykernel_25796/1508375683.py\u001b[0m in \u001b[0;36m<module>\u001b[0;34m\u001b[0m\n\u001b[0;32m----> 1\u001b[0;31m \u001b[0mis_five\u001b[0m\u001b[0;34m(\u001b[0m\u001b[0;34m'this'\u001b[0m\u001b[0;34m)\u001b[0m\u001b[0;34m\u001b[0m\u001b[0;34m\u001b[0m\u001b[0m\n\u001b[0m",
      "\u001b[0;32m/var/folders/hf/46l4fb0x1bj47kh2tdxlqp1h0000gn/T/ipykernel_25796/1780930008.py\u001b[0m in \u001b[0;36mis_five\u001b[0;34m(var)\u001b[0m\n\u001b[1;32m      5\u001b[0m \u001b[0;34m\u001b[0m\u001b[0m\n\u001b[1;32m      6\u001b[0m     \u001b[0;32mif\u001b[0m \u001b[0mtype\u001b[0m\u001b[0;34m(\u001b[0m\u001b[0mvar\u001b[0m\u001b[0;34m)\u001b[0m \u001b[0;34m!=\u001b[0m \u001b[0mint\u001b[0m\u001b[0;34m:\u001b[0m\u001b[0;34m\u001b[0m\u001b[0;34m\u001b[0m\u001b[0m\n\u001b[0;32m----> 7\u001b[0;31m         \u001b[0mvar\u001b[0m \u001b[0;34m=\u001b[0m \u001b[0mint\u001b[0m\u001b[0;34m(\u001b[0m\u001b[0mvar\u001b[0m\u001b[0;34m)\u001b[0m\u001b[0;34m\u001b[0m\u001b[0;34m\u001b[0m\u001b[0m\n\u001b[0m\u001b[1;32m      8\u001b[0m     \u001b[0;32mif\u001b[0m \u001b[0mvar\u001b[0m \u001b[0;34m>\u001b[0m \u001b[0;36m5\u001b[0m\u001b[0;34m:\u001b[0m\u001b[0;34m\u001b[0m\u001b[0;34m\u001b[0m\u001b[0m\n\u001b[1;32m      9\u001b[0m         \u001b[0mprint\u001b[0m\u001b[0;34m(\u001b[0m\u001b[0;34mf' {var} is greater than 5!'\u001b[0m\u001b[0;34m)\u001b[0m\u001b[0;34m\u001b[0m\u001b[0;34m\u001b[0m\u001b[0m\n",
      "\u001b[0;31mValueError\u001b[0m: invalid literal for int() with base 10: 'this'"
     ]
    }
   ],
   "source": [
    "is_five('this')"
   ]
  },
  {
   "cell_type": "code",
   "execution_count": null,
   "id": "8d2973af-beeb-44c7-b856-0ef4256ff815",
   "metadata": {},
   "outputs": [],
   "source": []
  }
 ],
 "metadata": {
  "kernelspec": {
   "display_name": "Python 3 (ipykernel)",
   "language": "python",
   "name": "python3"
  },
  "language_info": {
   "codemirror_mode": {
    "name": "ipython",
    "version": 3
   },
   "file_extension": ".py",
   "mimetype": "text/x-python",
   "name": "python",
   "nbconvert_exporter": "python",
   "pygments_lexer": "ipython3",
   "version": "3.9.13"
  }
 },
 "nbformat": 4,
 "nbformat_minor": 5
}
