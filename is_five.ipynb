{
 "cells": [
  {
   "cell_type": "code",
   "execution_count": 1,
   "id": "0ec4ca6c-9390-4d58-942f-eddb84c82957",
   "metadata": {},
   "outputs": [
    {
     "data": {
      "text/plain": [
       "' Write a function with takes in an integer and then determines if that int is less than 5 or equal to or greater than five and prints\\n'"
      ]
     },
     "execution_count": 1,
     "metadata": {},
     "output_type": "execute_result"
    }
   ],
   "source": [
    "''' Write a function with takes in an integer and then determines if that int is less than 5 or equal to or greater than five and prints\n",
    "'''"
   ]
  },
  {
   "cell_type": "code",
   "execution_count": null,
   "id": "e9bfe4e8-6d8e-48b6-a9b3-1e7ab5cca74c",
   "metadata": {},
   "outputs": [],
   "source": [
    "def is_five(var):\n",
    "    if var > 5:\n",
    "        print(f' {var} is greater than 5!')\n",
    "    if var <"
   ]
  }
 ],
 "metadata": {
  "kernelspec": {
   "display_name": "Python 3 (ipykernel)",
   "language": "python",
   "name": "python3"
  },
  "language_info": {
   "codemirror_mode": {
    "name": "ipython",
    "version": 3
   },
   "file_extension": ".py",
   "mimetype": "text/x-python",
   "name": "python",
   "nbconvert_exporter": "python",
   "pygments_lexer": "ipython3",
   "version": "3.9.13"
  }
 },
 "nbformat": 4,
 "nbformat_minor": 5
}
